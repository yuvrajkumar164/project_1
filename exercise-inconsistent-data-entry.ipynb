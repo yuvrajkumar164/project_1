{
 "cells": [
  {
   "cell_type": "markdown",
   "id": "swedish-nursery",
   "metadata": {
    "papermill": {
     "duration": 0.016588,
     "end_time": "2021-05-28T08:05:16.145008",
     "exception": false,
     "start_time": "2021-05-28T08:05:16.128420",
     "status": "completed"
    },
    "tags": []
   },
   "source": [
    "**This notebook is an exercise in the [Data Cleaning](https://www.kaggle.com/learn/data-cleaning) course.  You can reference the tutorial at [this link](https://www.kaggle.com/alexisbcook/inconsistent-data-entry).**\n",
    "\n",
    "---\n"
   ]
  },
  {
   "cell_type": "markdown",
   "id": "framed-comparison",
   "metadata": {
    "papermill": {
     "duration": 0.014695,
     "end_time": "2021-05-28T08:05:16.175205",
     "exception": false,
     "start_time": "2021-05-28T08:05:16.160510",
     "status": "completed"
    },
    "tags": []
   },
   "source": [
    "In this exercise, you'll apply what you learned in the **Inconsistent data entry** tutorial.\n",
    "\n",
    "# Setup\n",
    "\n",
    "The questions below will give you feedback on your work. Run the following cell to set up the feedback system."
   ]
  },
  {
   "cell_type": "code",
   "execution_count": 1,
   "id": "phantom-receiver",
   "metadata": {
    "execution": {
     "iopub.execute_input": "2021-05-28T08:05:16.211875Z",
     "iopub.status.busy": "2021-05-28T08:05:16.211122Z",
     "iopub.status.idle": "2021-05-28T08:05:16.304760Z",
     "shell.execute_reply": "2021-05-28T08:05:16.303912Z",
     "shell.execute_reply.started": "2021-05-28T07:51:14.806905Z"
    },
    "papermill": {
     "duration": 0.114794,
     "end_time": "2021-05-28T08:05:16.304974",
     "exception": false,
     "start_time": "2021-05-28T08:05:16.190180",
     "status": "completed"
    },
    "tags": []
   },
   "outputs": [
    {
     "name": "stdout",
     "output_type": "stream",
     "text": [
      "Setup Complete\n"
     ]
    }
   ],
   "source": [
    "from learntools.core import binder\n",
    "binder.bind(globals())\n",
    "from learntools.data_cleaning.ex5 import *\n",
    "print(\"Setup Complete\")"
   ]
  },
  {
   "cell_type": "markdown",
   "id": "patient-incident",
   "metadata": {
    "papermill": {
     "duration": 0.014709,
     "end_time": "2021-05-28T08:05:16.336066",
     "exception": false,
     "start_time": "2021-05-28T08:05:16.321357",
     "status": "completed"
    },
    "tags": []
   },
   "source": [
    "# Get our environment set up\n",
    "\n",
    "The first thing we'll need to do is load in the libraries and dataset we'll be using.  We use the same dataset from the tutorial."
   ]
  },
  {
   "cell_type": "code",
   "execution_count": 2,
   "id": "happy-planning",
   "metadata": {
    "execution": {
     "iopub.execute_input": "2021-05-28T08:05:16.371985Z",
     "iopub.status.busy": "2021-05-28T08:05:16.371339Z",
     "iopub.status.idle": "2021-05-28T08:05:16.384960Z",
     "shell.execute_reply": "2021-05-28T08:05:16.384301Z",
     "shell.execute_reply.started": "2021-05-28T07:51:18.407253Z"
    },
    "papermill": {
     "duration": 0.033752,
     "end_time": "2021-05-28T08:05:16.385102",
     "exception": false,
     "start_time": "2021-05-28T08:05:16.351350",
     "status": "completed"
    },
    "tags": []
   },
   "outputs": [],
   "source": [
    "# modules we'll use\n",
    "import pandas as pd\n",
    "import numpy as np\n",
    "\n",
    "# helpful modules\n",
    "import fuzzywuzzy\n",
    "from fuzzywuzzy import process\n",
    "import chardet\n",
    "\n",
    "# read in all our data\n",
    "professors = pd.read_csv(\"../input/pakistan-intellectual-capital/pakistan_intellectual_capital.csv\")\n",
    "\n",
    "# set seed for reproducibility\n",
    "np.random.seed(0)"
   ]
  },
  {
   "cell_type": "markdown",
   "id": "excited-patient",
   "metadata": {
    "papermill": {
     "duration": 0.016214,
     "end_time": "2021-05-28T08:05:16.416414",
     "exception": false,
     "start_time": "2021-05-28T08:05:16.400200",
     "status": "completed"
    },
    "tags": []
   },
   "source": [
    "Next, we'll redo all of the work that we did in the tutorial."
   ]
  },
  {
   "cell_type": "code",
   "execution_count": 3,
   "id": "robust-workplace",
   "metadata": {
    "execution": {
     "iopub.execute_input": "2021-05-28T08:05:16.458042Z",
     "iopub.status.busy": "2021-05-28T08:05:16.455801Z",
     "iopub.status.idle": "2021-05-28T08:05:16.465782Z",
     "shell.execute_reply": "2021-05-28T08:05:16.465280Z",
     "shell.execute_reply.started": "2021-05-28T07:51:22.592285Z"
    },
    "papermill": {
     "duration": 0.034242,
     "end_time": "2021-05-28T08:05:16.465937",
     "exception": false,
     "start_time": "2021-05-28T08:05:16.431695",
     "status": "completed"
    },
    "tags": []
   },
   "outputs": [
    {
     "name": "stdout",
     "output_type": "stream",
     "text": [
      "All done!\n"
     ]
    }
   ],
   "source": [
    "# convert to lower case\n",
    "professors['Country'] = professors['Country'].str.lower()\n",
    "# remove trailing white spaces\n",
    "professors['Country'] = professors['Country'].str.strip()\n",
    "\n",
    "# get the top 10 closest matches to \"south korea\"\n",
    "countries = professors['Country'].unique()\n",
    "matches = fuzzywuzzy.process.extract(\"south korea\", countries, limit=10, scorer=fuzzywuzzy.fuzz.token_sort_ratio)\n",
    "\n",
    "def replace_matches_in_column(df, column, string_to_match, min_ratio = 47):\n",
    "    # get a list of unique strings\n",
    "    strings = df[column].unique()\n",
    "    \n",
    "    # get the top 10 closest matches to our input string\n",
    "    matches = fuzzywuzzy.process.extract(string_to_match, strings, \n",
    "                                         limit=10, scorer=fuzzywuzzy.fuzz.token_sort_ratio)\n",
    "\n",
    "    # only get matches with a ratio > 90\n",
    "    close_matches = [matches[0] for matches in matches if matches[1] >= min_ratio]\n",
    "\n",
    "    # get the rows of all the close matches in our dataframe\n",
    "    rows_with_matches = df[column].isin(close_matches)\n",
    "\n",
    "    # replace all rows with close matches with the input matches \n",
    "    df.loc[rows_with_matches, column] = string_to_match\n",
    "    \n",
    "    # let us know the function's done\n",
    "    print(\"All done!\")\n",
    "    \n",
    "replace_matches_in_column(df=professors, column='Country', string_to_match=\"south korea\")\n",
    "countries = professors['Country'].unique()"
   ]
  },
  {
   "cell_type": "markdown",
   "id": "medieval-sierra",
   "metadata": {
    "papermill": {
     "duration": 0.015134,
     "end_time": "2021-05-28T08:05:16.496732",
     "exception": false,
     "start_time": "2021-05-28T08:05:16.481598",
     "status": "completed"
    },
    "tags": []
   },
   "source": [
    "# 1) Examine another column\n",
    "\n",
    "Write code below to take a look at all the unique values in the \"Graduated from\" column."
   ]
  },
  {
   "cell_type": "code",
   "execution_count": 4,
   "id": "backed-mambo",
   "metadata": {
    "execution": {
     "iopub.execute_input": "2021-05-28T08:05:16.533381Z",
     "iopub.status.busy": "2021-05-28T08:05:16.532703Z",
     "iopub.status.idle": "2021-05-28T08:05:16.535858Z",
     "shell.execute_reply": "2021-05-28T08:05:16.535326Z",
     "shell.execute_reply.started": "2021-05-28T07:51:28.148301Z"
    },
    "papermill": {
     "duration": 0.023415,
     "end_time": "2021-05-28T08:05:16.536005",
     "exception": false,
     "start_time": "2021-05-28T08:05:16.512590",
     "status": "completed"
    },
    "tags": []
   },
   "outputs": [],
   "source": [
    "# TODO: Your code here\n",
    "unis = professors['Graduated from'].unique()"
   ]
  },
  {
   "cell_type": "markdown",
   "id": "raised-campbell",
   "metadata": {
    "papermill": {
     "duration": 0.01572,
     "end_time": "2021-05-28T08:05:16.567818",
     "exception": false,
     "start_time": "2021-05-28T08:05:16.552098",
     "status": "completed"
    },
    "tags": []
   },
   "source": [
    "Do you notice any inconsistencies in the data?  Can any of the inconsistencies in the data be fixed by removing white spaces at the beginning and end of cells?\n",
    "\n",
    "Once you have answered these questions, run the code cell below to get credit for your work."
   ]
  },
  {
   "cell_type": "code",
   "execution_count": 5,
   "id": "express-stationery",
   "metadata": {
    "execution": {
     "iopub.execute_input": "2021-05-28T08:05:16.601413Z",
     "iopub.status.busy": "2021-05-28T08:05:16.600774Z",
     "iopub.status.idle": "2021-05-28T08:05:16.609515Z",
     "shell.execute_reply": "2021-05-28T08:05:16.608826Z",
     "shell.execute_reply.started": "2021-05-28T07:51:32.326915Z"
    },
    "papermill": {
     "duration": 0.026523,
     "end_time": "2021-05-28T08:05:16.609674",
     "exception": false,
     "start_time": "2021-05-28T08:05:16.583151",
     "status": "completed"
    },
    "tags": []
   },
   "outputs": [
    {
     "data": {
      "application/javascript": [
       "parent.postMessage({\"jupyterEvent\": \"custom.exercise_interaction\", \"data\": {\"outcomeType\": 1, \"valueTowardsCompletion\": 0.3333333333333333, \"interactionType\": 1, \"questionType\": 4, \"questionId\": \"1_ExamineProvince\", \"learnToolsVersion\": \"0.3.4\", \"failureMessage\": \"\", \"exceptionClass\": \"\", \"trace\": \"\"}}, \"*\")"
      ],
      "text/plain": [
       "<IPython.core.display.Javascript object>"
      ]
     },
     "metadata": {},
     "output_type": "display_data"
    },
    {
     "data": {
      "text/markdown": [
       "<span style=\"color:#33cc33\">Correct:</span> \n",
       "\n",
       "There are inconsistencies that can be fixed by removing white spaces at the beginning and end of cells.  For instance, \"University of Central Florida\" and \" University of Central Florida\" both appear in the column."
      ],
      "text/plain": [
       "Correct: \n",
       "\n",
       "There are inconsistencies that can be fixed by removing white spaces at the beginning and end of cells.  For instance, \"University of Central Florida\" and \" University of Central Florida\" both appear in the column."
      ]
     },
     "metadata": {},
     "output_type": "display_data"
    }
   ],
   "source": [
    "# Check your answer (Run this code cell to receive credit!)\n",
    "q1.check()"
   ]
  },
  {
   "cell_type": "code",
   "execution_count": 6,
   "id": "freelance-journey",
   "metadata": {
    "execution": {
     "iopub.execute_input": "2021-05-28T08:05:16.648084Z",
     "iopub.status.busy": "2021-05-28T08:05:16.647097Z",
     "iopub.status.idle": "2021-05-28T08:05:16.652392Z",
     "shell.execute_reply": "2021-05-28T08:05:16.652880Z",
     "shell.execute_reply.started": "2021-05-28T07:51:35.646837Z"
    },
    "papermill": {
     "duration": 0.026358,
     "end_time": "2021-05-28T08:05:16.653052",
     "exception": false,
     "start_time": "2021-05-28T08:05:16.626694",
     "status": "completed"
    },
    "tags": []
   },
   "outputs": [
    {
     "data": {
      "application/javascript": [
       "parent.postMessage({\"jupyterEvent\": \"custom.exercise_interaction\", \"data\": {\"interactionType\": 2, \"questionType\": 4, \"questionId\": \"1_ExamineProvince\", \"learnToolsVersion\": \"0.3.4\", \"valueTowardsCompletion\": 0.0, \"failureMessage\": \"\", \"exceptionClass\": \"\", \"trace\": \"\", \"outcomeType\": 4}}, \"*\")"
      ],
      "text/plain": [
       "<IPython.core.display.Javascript object>"
      ]
     },
     "metadata": {},
     "output_type": "display_data"
    },
    {
     "data": {
      "text/markdown": [
       "<span style=\"color:#3366cc\">Hint:</span> Use `unis = professors['Graduated from'].unique()` to take a look at the unique values in the 'Graduated from' column. You may find it useful to sort the data before printing it."
      ],
      "text/plain": [
       "Hint: Use `unis = professors['Graduated from'].unique()` to take a look at the unique values in the 'Graduated from' column. You may find it useful to sort the data before printing it."
      ]
     },
     "metadata": {},
     "output_type": "display_data"
    }
   ],
   "source": [
    "# Line below will give you a hint\n",
    "q1.hint()\n"
   ]
  },
  {
   "cell_type": "markdown",
   "id": "fancy-liberal",
   "metadata": {
    "papermill": {
     "duration": 0.0172,
     "end_time": "2021-05-28T08:05:16.688083",
     "exception": false,
     "start_time": "2021-05-28T08:05:16.670883",
     "status": "completed"
    },
    "tags": []
   },
   "source": [
    "# 2) Do some text pre-processing\n",
    "\n",
    "Convert every entry in the \"Graduated from\" column in the `professors` DataFrame to remove white spaces at the beginning and end of cells."
   ]
  },
  {
   "cell_type": "code",
   "execution_count": 7,
   "id": "illegal-traffic",
   "metadata": {
    "execution": {
     "iopub.execute_input": "2021-05-28T08:05:16.726563Z",
     "iopub.status.busy": "2021-05-28T08:05:16.725650Z",
     "iopub.status.idle": "2021-05-28T08:05:16.737404Z",
     "shell.execute_reply": "2021-05-28T08:05:16.736771Z",
     "shell.execute_reply.started": "2021-05-28T07:51:45.887197Z"
    },
    "papermill": {
     "duration": 0.032034,
     "end_time": "2021-05-28T08:05:16.737553",
     "exception": false,
     "start_time": "2021-05-28T08:05:16.705519",
     "status": "completed"
    },
    "tags": []
   },
   "outputs": [
    {
     "data": {
      "application/javascript": [
       "parent.postMessage({\"jupyterEvent\": \"custom.exercise_interaction\", \"data\": {\"outcomeType\": 1, \"valueTowardsCompletion\": 0.3333333333333333, \"interactionType\": 1, \"questionType\": 1, \"questionId\": \"2_TextProcessing\", \"learnToolsVersion\": \"0.3.4\", \"failureMessage\": \"\", \"exceptionClass\": \"\", \"trace\": \"\"}}, \"*\")"
      ],
      "text/plain": [
       "<IPython.core.display.Javascript object>"
      ]
     },
     "metadata": {},
     "output_type": "display_data"
    },
    {
     "data": {
      "text/markdown": [
       "<span style=\"color:#33cc33\">Correct</span>"
      ],
      "text/plain": [
       "Correct"
      ]
     },
     "metadata": {},
     "output_type": "display_data"
    }
   ],
   "source": [
    "# TODO: Your code here\n",
    "\n",
    "professors['Graduated from'] = professors['Graduated from'].str.strip()\n",
    "professors['Graduated from'].head()\n",
    "\n",
    "# Check your answer\n",
    "q2.check()"
   ]
  },
  {
   "cell_type": "code",
   "execution_count": 8,
   "id": "material-conference",
   "metadata": {
    "execution": {
     "iopub.execute_input": "2021-05-28T08:05:16.780232Z",
     "iopub.status.busy": "2021-05-28T08:05:16.779303Z",
     "iopub.status.idle": "2021-05-28T08:05:16.788482Z",
     "shell.execute_reply": "2021-05-28T08:05:16.787942Z",
     "shell.execute_reply.started": "2021-05-28T07:51:58.249031Z"
    },
    "papermill": {
     "duration": 0.032363,
     "end_time": "2021-05-28T08:05:16.788626",
     "exception": false,
     "start_time": "2021-05-28T08:05:16.756263",
     "status": "completed"
    },
    "tags": []
   },
   "outputs": [
    {
     "data": {
      "application/javascript": [
       "parent.postMessage({\"jupyterEvent\": \"custom.exercise_interaction\", \"data\": {\"interactionType\": 2, \"questionType\": 1, \"questionId\": \"2_TextProcessing\", \"learnToolsVersion\": \"0.3.4\", \"valueTowardsCompletion\": 0.0, \"failureMessage\": \"\", \"exceptionClass\": \"\", \"trace\": \"\", \"outcomeType\": 4}}, \"*\")"
      ],
      "text/plain": [
       "<IPython.core.display.Javascript object>"
      ]
     },
     "metadata": {},
     "output_type": "display_data"
    },
    {
     "data": {
      "text/markdown": [
       "<span style=\"color:#3366cc\">Hint:</span> In the tutorial, you did the same operation on a different column."
      ],
      "text/plain": [
       "Hint: In the tutorial, you did the same operation on a different column."
      ]
     },
     "metadata": {},
     "output_type": "display_data"
    },
    {
     "data": {
      "application/javascript": [
       "parent.postMessage({\"jupyterEvent\": \"custom.exercise_interaction\", \"data\": {\"interactionType\": 3, \"questionType\": 1, \"questionId\": \"2_TextProcessing\", \"learnToolsVersion\": \"0.3.4\", \"valueTowardsCompletion\": 0.0, \"failureMessage\": \"\", \"exceptionClass\": \"\", \"trace\": \"\", \"outcomeType\": 4}}, \"*\")"
      ],
      "text/plain": [
       "<IPython.core.display.Javascript object>"
      ]
     },
     "metadata": {},
     "output_type": "display_data"
    },
    {
     "data": {
      "text/markdown": [
       "<span style=\"color:#33cc99\">Solution:</span> \n",
       "```python\n",
       "professors['Graduated from'] = professors['Graduated from'].str.strip()\n",
       "\n",
       "```"
      ],
      "text/plain": [
       "Solution: \n",
       "```python\n",
       "professors['Graduated from'] = professors['Graduated from'].str.strip()\n",
       "\n",
       "```"
      ]
     },
     "metadata": {},
     "output_type": "display_data"
    }
   ],
   "source": [
    "# Lines below will give you a hint or solution code\n",
    "q2.hint()\n",
    "q2.solution()"
   ]
  },
  {
   "cell_type": "markdown",
   "id": "checked-netherlands",
   "metadata": {
    "papermill": {
     "duration": 0.020044,
     "end_time": "2021-05-28T08:05:16.829141",
     "exception": false,
     "start_time": "2021-05-28T08:05:16.809097",
     "status": "completed"
    },
    "tags": []
   },
   "source": [
    "# 3) Continue working with countries\n",
    "\n",
    "In the tutorial, we focused on cleaning up inconsistencies in the \"Country\" column.  Run the code cell below to view the list of unique values that we ended with."
   ]
  },
  {
   "cell_type": "code",
   "execution_count": 9,
   "id": "toxic-taxation",
   "metadata": {
    "execution": {
     "iopub.execute_input": "2021-05-28T08:05:16.877850Z",
     "iopub.status.busy": "2021-05-28T08:05:16.877014Z",
     "iopub.status.idle": "2021-05-28T08:05:16.880662Z",
     "shell.execute_reply": "2021-05-28T08:05:16.881078Z",
     "shell.execute_reply.started": "2021-05-28T07:52:05.887983Z"
    },
    "papermill": {
     "duration": 0.031673,
     "end_time": "2021-05-28T08:05:16.881264",
     "exception": false,
     "start_time": "2021-05-28T08:05:16.849591",
     "status": "completed"
    },
    "tags": []
   },
   "outputs": [
    {
     "data": {
      "text/plain": [
       "array(['australia', 'austria', 'canada', 'china', 'finland', 'france',\n",
       "       'germany', 'greece', 'hongkong', 'ireland', 'italy', 'japan',\n",
       "       'macau', 'malaysia', 'mauritius', 'netherland', 'new zealand',\n",
       "       'norway', 'pakistan', 'portugal', 'russian federation',\n",
       "       'saudi arabia', 'scotland', 'singapore', 'south korea', 'spain',\n",
       "       'sweden', 'thailand', 'turkey', 'uk', 'urbana', 'usa', 'usofa'],\n",
       "      dtype=object)"
      ]
     },
     "execution_count": 9,
     "metadata": {},
     "output_type": "execute_result"
    }
   ],
   "source": [
    "# get all the unique values in the 'City' column\n",
    "countries = professors['Country'].unique()\n",
    "\n",
    "# sort them alphabetically and then take a closer look\n",
    "countries.sort()\n",
    "countries"
   ]
  },
  {
   "cell_type": "markdown",
   "id": "nuclear-fantasy",
   "metadata": {
    "papermill": {
     "duration": 0.020494,
     "end_time": "2021-05-28T08:05:16.922703",
     "exception": false,
     "start_time": "2021-05-28T08:05:16.902209",
     "status": "completed"
    },
    "tags": []
   },
   "source": [
    "Take another look at the \"Country\" column and see if there's any more data cleaning we need to do.\n",
    "\n",
    "It looks like 'usa' and 'usofa' should be the same country.  Correct the \"Country\" column in the dataframe so that 'usofa' appears instead as 'usa'.\n",
    "\n",
    "**Use the most recent version of the DataFrame (with the whitespaces at the beginning and end of cells removed) from question 2.**"
   ]
  },
  {
   "cell_type": "code",
   "execution_count": 10,
   "id": "noted-morocco",
   "metadata": {
    "execution": {
     "iopub.execute_input": "2021-05-28T08:05:16.974675Z",
     "iopub.status.busy": "2021-05-28T08:05:16.973663Z",
     "iopub.status.idle": "2021-05-28T08:05:16.980768Z",
     "shell.execute_reply": "2021-05-28T08:05:16.981205Z",
     "shell.execute_reply.started": "2021-05-28T08:04:23.531773Z"
    },
    "papermill": {
     "duration": 0.037609,
     "end_time": "2021-05-28T08:05:16.981410",
     "exception": false,
     "start_time": "2021-05-28T08:05:16.943801",
     "status": "completed"
    },
    "tags": []
   },
   "outputs": [
    {
     "name": "stdout",
     "output_type": "stream",
     "text": [
      "All done!\n"
     ]
    },
    {
     "data": {
      "application/javascript": [
       "parent.postMessage({\"jupyterEvent\": \"custom.exercise_interaction\", \"data\": {\"outcomeType\": 1, \"valueTowardsCompletion\": 0.3333333333333333, \"interactionType\": 1, \"questionType\": 1, \"questionId\": \"3_WorkingWithCities\", \"learnToolsVersion\": \"0.3.4\", \"failureMessage\": \"\", \"exceptionClass\": \"\", \"trace\": \"\"}}, \"*\")"
      ],
      "text/plain": [
       "<IPython.core.display.Javascript object>"
      ]
     },
     "metadata": {},
     "output_type": "display_data"
    },
    {
     "data": {
      "text/markdown": [
       "<span style=\"color:#33cc33\">Correct</span>"
      ],
      "text/plain": [
       "Correct"
      ]
     },
     "metadata": {},
     "output_type": "display_data"
    }
   ],
   "source": [
    "# TODO: Your code here!\n",
    "matches = fuzzywuzzy.process.extract(\"usa\", countries, limit=10, scorer=fuzzywuzzy.fuzz.token_sort_ratio)\n",
    "replace_matches_in_column(df=professors, column='Country', string_to_match=\"usa\", min_ratio=70)\n",
    "q3.check()"
   ]
  },
  {
   "cell_type": "code",
   "execution_count": 11,
   "id": "tutorial-istanbul",
   "metadata": {
    "execution": {
     "iopub.execute_input": "2021-05-28T08:05:17.032361Z",
     "iopub.status.busy": "2021-05-28T08:05:17.031380Z",
     "iopub.status.idle": "2021-05-28T08:05:17.040195Z",
     "shell.execute_reply": "2021-05-28T08:05:17.039593Z",
     "shell.execute_reply.started": "2021-05-28T08:04:32.459840Z"
    },
    "papermill": {
     "duration": 0.036763,
     "end_time": "2021-05-28T08:05:17.040387",
     "exception": false,
     "start_time": "2021-05-28T08:05:17.003624",
     "status": "completed"
    },
    "tags": []
   },
   "outputs": [
    {
     "data": {
      "application/javascript": [
       "parent.postMessage({\"jupyterEvent\": \"custom.exercise_interaction\", \"data\": {\"interactionType\": 2, \"questionType\": 1, \"questionId\": \"3_WorkingWithCities\", \"learnToolsVersion\": \"0.3.4\", \"valueTowardsCompletion\": 0.0, \"failureMessage\": \"\", \"exceptionClass\": \"\", \"trace\": \"\", \"outcomeType\": 4}}, \"*\")"
      ],
      "text/plain": [
       "<IPython.core.display.Javascript object>"
      ]
     },
     "metadata": {},
     "output_type": "display_data"
    },
    {
     "data": {
      "text/markdown": [
       "<span style=\"color:#3366cc\">Hint:</span> Use the `replace_matches_in_column()` function defined above."
      ],
      "text/plain": [
       "Hint: Use the `replace_matches_in_column()` function defined above."
      ]
     },
     "metadata": {},
     "output_type": "display_data"
    },
    {
     "data": {
      "application/javascript": [
       "parent.postMessage({\"jupyterEvent\": \"custom.exercise_interaction\", \"data\": {\"interactionType\": 3, \"questionType\": 1, \"questionId\": \"3_WorkingWithCities\", \"learnToolsVersion\": \"0.3.4\", \"valueTowardsCompletion\": 0.0, \"failureMessage\": \"\", \"exceptionClass\": \"\", \"trace\": \"\", \"outcomeType\": 4}}, \"*\")"
      ],
      "text/plain": [
       "<IPython.core.display.Javascript object>"
      ]
     },
     "metadata": {},
     "output_type": "display_data"
    },
    {
     "data": {
      "text/markdown": [
       "<span style=\"color:#33cc99\">Solution:</span> \n",
       "```python\n",
       "matches = fuzzywuzzy.process.extract(\"usa\", countries, limit=10, scorer=fuzzywuzzy.fuzz.token_sort_ratio)\n",
       "replace_matches_in_column(df=professors, column='Country', string_to_match=\"usa\", min_ratio=70)\n",
       "\n",
       "```"
      ],
      "text/plain": [
       "Solution: \n",
       "```python\n",
       "matches = fuzzywuzzy.process.extract(\"usa\", countries, limit=10, scorer=fuzzywuzzy.fuzz.token_sort_ratio)\n",
       "replace_matches_in_column(df=professors, column='Country', string_to_match=\"usa\", min_ratio=70)\n",
       "\n",
       "```"
      ]
     },
     "metadata": {},
     "output_type": "display_data"
    }
   ],
   "source": [
    "# Lines below will give you a hint or solution code\n",
    "q3.hint()\n",
    "q3.solution()"
   ]
  },
  {
   "cell_type": "markdown",
   "id": "fixed-thousand",
   "metadata": {
    "papermill": {
     "duration": 0.023654,
     "end_time": "2021-05-28T08:05:17.088270",
     "exception": false,
     "start_time": "2021-05-28T08:05:17.064616",
     "status": "completed"
    },
    "tags": []
   },
   "source": [
    "# Congratulations!\n",
    "\n",
    "Congratulations for completing the **Data Cleaning** course on Kaggle Learn!\n",
    "\n",
    "To practice your new skills, you're encouraged to download and investigate some of [Kaggle's Datasets](https://www.kaggle.com/datasets)."
   ]
  },
  {
   "cell_type": "markdown",
   "id": "certified-visit",
   "metadata": {
    "papermill": {
     "duration": 0.023768,
     "end_time": "2021-05-28T08:05:17.135853",
     "exception": false,
     "start_time": "2021-05-28T08:05:17.112085",
     "status": "completed"
    },
    "tags": []
   },
   "source": [
    "---\n",
    "\n",
    "\n",
    "\n",
    "\n",
    "*Have questions or comments? Visit the [Learn Discussion forum](https://www.kaggle.com/learn-forum/172650) to chat with other Learners.*"
   ]
  }
 ],
 "metadata": {
  "kernelspec": {
   "display_name": "Python 3",
   "language": "python",
   "name": "python3"
  },
  "language_info": {
   "codemirror_mode": {
    "name": "ipython",
    "version": 3
   },
   "file_extension": ".py",
   "mimetype": "text/x-python",
   "name": "python",
   "nbconvert_exporter": "python",
   "pygments_lexer": "ipython3",
   "version": "3.7.9"
  },
  "papermill": {
   "default_parameters": {},
   "duration": 7.47922,
   "end_time": "2021-05-28T08:05:17.770384",
   "environment_variables": {},
   "exception": null,
   "input_path": "__notebook__.ipynb",
   "output_path": "__notebook__.ipynb",
   "parameters": {},
   "start_time": "2021-05-28T08:05:10.291164",
   "version": "2.3.2"
  }
 },
 "nbformat": 4,
 "nbformat_minor": 5
}
