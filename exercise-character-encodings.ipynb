{
 "cells": [
  {
   "cell_type": "markdown",
   "metadata": {
    "papermill": {
     "duration": 0.014635,
     "end_time": "2021-05-27T13:18:23.503426",
     "exception": false,
     "start_time": "2021-05-27T13:18:23.488791",
     "status": "completed"
    },
    "tags": []
   },
   "source": [
    "**This notebook is an exercise in the [Data Cleaning](https://www.kaggle.com/learn/data-cleaning) course.  You can reference the tutorial at [this link](https://www.kaggle.com/alexisbcook/character-encodings).**\n",
    "\n",
    "---\n"
   ]
  },
  {
   "cell_type": "markdown",
   "metadata": {
    "papermill": {
     "duration": 0.014184,
     "end_time": "2021-05-27T13:18:23.531795",
     "exception": false,
     "start_time": "2021-05-27T13:18:23.517611",
     "status": "completed"
    },
    "tags": []
   },
   "source": [
    "\n",
    "# Setup\n",
    "\n"
   ]
  },
  {
   "cell_type": "code",
   "execution_count": 1,
   "metadata": {
    "execution": {
     "iopub.execute_input": "2021-05-27T13:18:23.565530Z",
     "iopub.status.busy": "2021-05-27T13:18:23.564901Z",
     "iopub.status.idle": "2021-05-27T13:18:23.659891Z",
     "shell.execute_reply": "2021-05-27T13:18:23.660438Z",
     "shell.execute_reply.started": "2021-05-27T13:14:16.622644Z"
    },
    "papermill": {
     "duration": 0.115085,
     "end_time": "2021-05-27T13:18:23.660776",
     "exception": false,
     "start_time": "2021-05-27T13:18:23.545691",
     "status": "completed"
    },
    "tags": []
   },
   "outputs": [
    {
     "name": "stdout",
     "output_type": "stream",
     "text": [
      "Setup Complete\n"
     ]
    }
   ],
   "source": [
    "from learntools.core import binder\n",
    "binder.bind(globals())\n",
    "from learntools.data_cleaning.ex4 import *\n",
    "print(\"Setup Complete\")"
   ]
  },
  {
   "cell_type": "markdown",
   "metadata": {
    "papermill": {
     "duration": 0.014067,
     "end_time": "2021-05-27T13:18:23.689119",
     "exception": false,
     "start_time": "2021-05-27T13:18:23.675052",
     "status": "completed"
    },
    "tags": []
   },
   "source": [
    "# Get our environment set up\n",
    "\n",
    "The first thing we'll need to do is load in the libraries we'll be using."
   ]
  },
  {
   "cell_type": "code",
   "execution_count": 2,
   "metadata": {
    "execution": {
     "iopub.execute_input": "2021-05-27T13:18:23.720245Z",
     "iopub.status.busy": "2021-05-27T13:18:23.719534Z",
     "iopub.status.idle": "2021-05-27T13:18:23.724590Z",
     "shell.execute_reply": "2021-05-27T13:18:23.725102Z",
     "shell.execute_reply.started": "2021-05-27T13:14:24.503713Z"
    },
    "papermill": {
     "duration": 0.022287,
     "end_time": "2021-05-27T13:18:23.725304",
     "exception": false,
     "start_time": "2021-05-27T13:18:23.703017",
     "status": "completed"
    },
    "tags": []
   },
   "outputs": [],
   "source": [
    "# modules we'll use\n",
    "import pandas as pd\n",
    "import numpy as np\n",
    "\n",
    "# helpful character encoding module\n",
    "import chardet\n",
    "\n",
    "# set seed for reproducibility\n",
    "np.random.seed(0)"
   ]
  },
  {
   "cell_type": "markdown",
   "metadata": {
    "papermill": {
     "duration": 0.013928,
     "end_time": "2021-05-27T13:18:23.753788",
     "exception": false,
     "start_time": "2021-05-27T13:18:23.739860",
     "status": "completed"
    },
    "tags": []
   },
   "source": [
    "# 1) What are encodings?\n",
    "\n",
    "You're working with a dataset composed of bytes.  Run the code cell below to print a sample entry."
   ]
  },
  {
   "cell_type": "code",
   "execution_count": 3,
   "metadata": {
    "execution": {
     "iopub.execute_input": "2021-05-27T13:18:23.788809Z",
     "iopub.status.busy": "2021-05-27T13:18:23.788029Z",
     "iopub.status.idle": "2021-05-27T13:18:23.792538Z",
     "shell.execute_reply": "2021-05-27T13:18:23.791594Z",
     "shell.execute_reply.started": "2021-05-27T13:14:40.782451Z"
    },
    "papermill": {
     "duration": 0.02505,
     "end_time": "2021-05-27T13:18:23.792759",
     "exception": false,
     "start_time": "2021-05-27T13:18:23.767709",
     "status": "completed"
    },
    "tags": []
   },
   "outputs": [
    {
     "name": "stdout",
     "output_type": "stream",
     "text": [
      "b'\\xa7A\\xa6n'\n",
      "data type: <class 'bytes'>\n"
     ]
    }
   ],
   "source": [
    "sample_entry = b'\\xa7A\\xa6n'\n",
    "print(sample_entry)\n",
    "print('data type:', type(sample_entry))"
   ]
  },
  {
   "cell_type": "markdown",
   "metadata": {
    "papermill": {
     "duration": 0.013966,
     "end_time": "2021-05-27T13:18:23.821892",
     "exception": false,
     "start_time": "2021-05-27T13:18:23.807926",
     "status": "completed"
    },
    "tags": []
   },
   "source": [
    "You notice that it doesn't use the standard UTF-8 encoding. \n",
    "\n",
    "Use the next code cell to create a variable `new_entry` that changes the encoding from `\"big5-tw\"` to `\"utf-8\"`.  `new_entry` should have the bytes datatype."
   ]
  },
  {
   "cell_type": "code",
   "execution_count": null,
   "metadata": {
    "execution": {
     "iopub.execute_input": "2021-05-27T13:18:23.858121Z",
     "iopub.status.busy": "2021-05-27T13:18:23.854952Z",
     "iopub.status.idle": "2021-05-27T13:18:23.864906Z",
     "shell.execute_reply": "2021-05-27T13:18:23.864380Z",
     "shell.execute_reply.started": "2021-05-27T13:15:32.393785Z"
    },
    "papermill": {
     "duration": 0.028894,
     "end_time": "2021-05-27T13:18:23.865055",
     "exception": false,
     "start_time": "2021-05-27T13:18:23.836161",
     "status": "completed"
    },
    "tags": []
   },
   "outputs": [],
   "source": [
    "\n",
    "\n"
   ]
  },
  {
   "cell_type": "code",
   "execution_count": null,
   "metadata": {
    "execution": {
     "iopub.execute_input": "2021-05-27T13:18:23.901467Z",
     "iopub.status.busy": "2021-05-27T13:18:23.900834Z",
     "iopub.status.idle": "2021-05-27T13:18:23.908815Z",
     "shell.execute_reply": "2021-05-27T13:18:23.909400Z",
     "shell.execute_reply.started": "2021-05-27T13:15:42.283487Z"
    },
    "papermill": {
     "duration": 0.028537,
     "end_time": "2021-05-27T13:18:23.909578",
     "exception": false,
     "start_time": "2021-05-27T13:18:23.881041",
     "status": "completed"
    },
    "tags": []
   },
   "outputs": [],
   "source": [
    "before = sample_entry.decode(\"big5-tw\")\n",
    "new_entry = before.encode()"
   ]
  },
  {
   "cell_type": "markdown",
   "metadata": {
    "papermill": {
     "duration": 0.017385,
     "end_time": "2021-05-27T13:18:23.944178",
     "exception": false,
     "start_time": "2021-05-27T13:18:23.926793",
     "status": "completed"
    },
    "tags": []
   },
   "source": [
    "# 2) Reading in files with encoding problems\n",
    "\n",
    "Use the code cell below to read in this file at path `\"../input/fatal-police-shootings-in-the-us/PoliceKillingsUS.csv\"`.  \n",
    "\n",
    "Figure out what the correct encoding should be and read in the file to a DataFrame `police_killings`."
   ]
  },
  {
   "cell_type": "code",
   "execution_count": null,
   "metadata": {
    "execution": {
     "iopub.execute_input": "2021-05-27T13:18:23.982664Z",
     "iopub.status.busy": "2021-05-27T13:18:23.982021Z",
     "iopub.status.idle": "2021-05-27T13:18:24.007494Z",
     "shell.execute_reply": "2021-05-27T13:18:24.008059Z",
     "shell.execute_reply.started": "2021-05-27T13:16:28.428418Z"
    },
    "papermill": {
     "duration": 0.046423,
     "end_time": "2021-05-27T13:18:24.008239",
     "exception": false,
     "start_time": "2021-05-27T13:18:23.961816",
     "status": "completed"
    },
    "tags": []
   },
   "outputs": [],
   "source": [
    "\n",
    "\n",
    "\n",
    "\n"
   ]
  },
  {
   "cell_type": "markdown",
   "metadata": {
    "papermill": {
     "duration": 0.017877,
     "end_time": "2021-05-27T13:18:24.044550",
     "exception": false,
     "start_time": "2021-05-27T13:18:24.026673",
     "status": "completed"
    },
    "tags": []
   },
   "source": []
  },
  {
   "cell_type": "code",
   "execution_count": null,
   "metadata": {
    "execution": {
     "iopub.execute_input": "2021-05-27T13:18:24.084850Z",
     "iopub.status.busy": "2021-05-27T13:18:24.084173Z",
     "iopub.status.idle": "2021-05-27T13:18:24.089237Z",
     "shell.execute_reply": "2021-05-27T13:18:24.088674Z"
    },
    "papermill": {
     "duration": 0.026488,
     "end_time": "2021-05-27T13:18:24.089383",
     "exception": false,
     "start_time": "2021-05-27T13:18:24.062895",
     "status": "completed"
    },
    "tags": []
   },
   "outputs": [],
   "source": [
    "#Load in the DataFrame correctly.\n",
    "police_killings = pd.read_csv(\"../input/fatal-police-shootings-in-the-us/PoliceKillingsUS.csv\", encoding='Windows-1252')"
   ]
  },
  {
   "cell_type": "code",
   "execution_count": null,
   "metadata": {
    "execution": {
     "iopub.execute_input": "2021-05-27T13:18:24.132641Z",
     "iopub.status.busy": "2021-05-27T13:18:24.131752Z",
     "iopub.status.idle": "2021-05-27T13:18:24.141284Z",
     "shell.execute_reply": "2021-05-27T13:18:24.140647Z",
     "shell.execute_reply.started": "2021-05-27T13:16:36.844144Z"
    },
    "papermill": {
     "duration": 0.033518,
     "end_time": "2021-05-27T13:18:24.141428",
     "exception": false,
     "start_time": "2021-05-27T13:18:24.107910",
     "status": "completed"
    },
    "tags": []
   },
   "outputs": [],
   "source": []
  },
  {
   "cell_type": "markdown",
   "metadata": {
    "papermill": {
     "duration": 0.020866,
     "end_time": "2021-05-27T13:18:24.182769",
     "exception": false,
     "start_time": "2021-05-27T13:18:24.161903",
     "status": "completed"
    },
    "tags": []
   },
   "source": [
    "# 3) Saving your files with UTF-8 encoding\n",
    "\n",
    "Save a version of the police killings dataset to CSV with UTF-8 encoding.  Your answer will be marked correct after saving this file.  \n",
    "\n",
    "Note: When using the `to_csv()` method, supply only the name of the file (e.g., `\"my_file.csv\"`).  This saves the file at the filepath `\"/kaggle/working/my_file.csv\"`."
   ]
  },
  {
   "cell_type": "code",
   "execution_count": null,
   "metadata": {
    "execution": {
     "iopub.execute_input": "2021-05-27T13:18:24.228944Z",
     "iopub.status.busy": "2021-05-27T13:18:24.228009Z",
     "iopub.status.idle": "2021-05-27T13:18:24.269465Z",
     "shell.execute_reply": "2021-05-27T13:18:24.268852Z",
     "shell.execute_reply.started": "2021-05-27T13:17:34.804384Z"
    },
    "papermill": {
     "duration": 0.066448,
     "end_time": "2021-05-27T13:18:24.269603",
     "exception": false,
     "start_time": "2021-05-27T13:18:24.203155",
     "status": "completed"
    },
    "tags": []
   },
   "outputs": [],
   "source": []
  },
  {
   "cell_type": "code",
   "execution_count": null,
   "metadata": {
    "execution": {
     "iopub.execute_input": "2021-05-27T13:18:24.317882Z",
     "iopub.status.busy": "2021-05-27T13:18:24.316877Z",
     "iopub.status.idle": "2021-05-27T13:18:24.327594Z",
     "shell.execute_reply": "2021-05-27T13:18:24.326957Z",
     "shell.execute_reply.started": "2021-05-27T13:17:43.583723Z"
    },
    "papermill": {
     "duration": 0.036599,
     "end_time": "2021-05-27T13:18:24.327730",
     "exception": false,
     "start_time": "2021-05-27T13:18:24.291131",
     "status": "completed"
    },
    "tags": []
   },
   "outputs": [],
   "source": [
    "#Save the police killings dataset to CSV\n",
    "police_killings.to_csv(\"my_file.csv\")"
   ]
  },
  {
   "cell_type": "markdown",
   "metadata": {
    "papermill": {
     "duration": 0.022907,
     "end_time": "2021-05-27T13:18:24.374948",
     "exception": false,
     "start_time": "2021-05-27T13:18:24.352041",
     "status": "completed"
    },
    "tags": []
   },
   "source": []
  },
  {
   "cell_type": "markdown",
   "metadata": {
    "papermill": {
     "duration": 0.022952,
     "end_time": "2021-05-27T13:18:24.421581",
     "exception": false,
     "start_time": "2021-05-27T13:18:24.398629",
     "status": "completed"
    },
    "tags": []
   },
   "source": []
  }
 ],
 "metadata": {
  "kernelspec": {
   "display_name": "Python 3",
   "language": "python",
   "name": "python3"
  },
  "language_info": {
   "codemirror_mode": {
    "name": "ipython",
    "version": 3
   },
   "file_extension": ".py",
   "mimetype": "text/x-python",
   "name": "python",
   "nbconvert_exporter": "python",
   "pygments_lexer": "ipython3",
   "version": "3.7.3"
  },
  "papermill": {
   "default_parameters": {},
   "duration": 7.725353,
   "end_time": "2021-05-27T13:18:25.056103",
   "environment_variables": {},
   "exception": null,
   "input_path": "__notebook__.ipynb",
   "output_path": "__notebook__.ipynb",
   "parameters": {},
   "start_time": "2021-05-27T13:18:17.330750",
   "version": "2.3.2"
  }
 },
 "nbformat": 4,
 "nbformat_minor": 5
}
